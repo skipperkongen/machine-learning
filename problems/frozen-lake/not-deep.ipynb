{
 "cells": [
  {
   "cell_type": "code",
   "execution_count": null,
   "metadata": {
    "collapsed": true
   },
   "outputs": [],
   "source": [
    "import gym\n",
    "import numpy as np"
   ]
  },
  {
   "cell_type": "code",
   "execution_count": null,
   "metadata": {
    "collapsed": true
   },
   "outputs": [],
   "source": [
    "env = gym.make('FrozenLake-v0')"
   ]
  },
  {
   "cell_type": "code",
   "execution_count": null,
   "metadata": {
    "scrolled": false
   },
   "outputs": [],
   "source": [
    "# Q table\n",
    "Q = np.zeros([env.observation_space.n, env.action_space.n])\n",
    "# Set learning parameters\n",
    "lr = .8\n",
    "y = .95\n",
    "num_episodes = 2000\n",
    "# create lists to contain total rewards and steps per episode\n",
    "rList = []\n",
    "# do it\n",
    "for i in range(num_episodes):\n",
    "    #Reset environment and get first new observation\n",
    "    state = env.reset()\n",
    "    rAll = 0\n",
    "    done = False\n",
    "    j = 0\n",
    "    # Update the Q-Table learning algorithm\n",
    "    while j < 99:\n",
    "        j+=1\n",
    "        # Choose an action by greedily (with noise) picking from Q table\n",
    "        # Decrease noise with each episode\n",
    "\n",
    "        action = np.argmax(Q[state,:] + np.random.randn(1,env.action_space.n)*(1./(i+1)))\n",
    "        #Get new state and reward from environment\n",
    "        s1,r,done,_ = env.step(action)\n",
    "        #Update Q-Table with new knowledge\n",
    "        newVal = Q[state,action] + lr*(r + y*np.max(Q[s1,:]) - Q[state, action])\n",
    "        Q[state, action] = newVal\n",
    "        if newVal > 0.0:\n",
    "            \"\"\"\n",
    "            print ('i: {}, j: {}'.format(i, j))\n",
    "            print('Reward: {}'.format(r))\n",
    "            print('Row: {}'.format(Q[state,:]))\n",
    "            print ('Done: {}'.format(done))\n",
    "            print ('Update: {}'.format(newVal))\n",
    "            print()\n",
    "            \"\"\"\n",
    "        rAll += r\n",
    "        state = s1\n",
    "        if done == True:\n",
    "            break\n",
    "    rList.append(rAll)\n",
    "\n",
    "import matplotlib.pyplot as plt    \n",
    "%matplotlib inline\n",
    "\n",
    "print(rList)\n",
    "plt.plot(rList)\n",
    "plt.ylabel('Score over time')\n",
    "plt.show()"
   ]
  },
  {
   "cell_type": "code",
   "execution_count": null,
   "metadata": {
    "collapsed": true
   },
   "outputs": [],
   "source": []
  },
  {
   "cell_type": "code",
   "execution_count": null,
   "metadata": {
    "collapsed": true
   },
   "outputs": [],
   "source": []
  }
 ],
 "metadata": {
  "kernelspec": {
   "display_name": "Python 3",
   "language": "python",
   "name": "python3"
  },
  "language_info": {
   "codemirror_mode": {
    "name": "ipython",
    "version": 3
   },
   "file_extension": ".py",
   "mimetype": "text/x-python",
   "name": "python",
   "nbconvert_exporter": "python",
   "pygments_lexer": "ipython3",
   "version": "3.6.1"
  }
 },
 "nbformat": 4,
 "nbformat_minor": 2
}
