{
 "cells": [
  {
   "cell_type": "code",
   "execution_count": 2,
   "metadata": {
    "collapsed": true
   },
   "outputs": [],
   "source": [
    "import numpy as np\n",
    "import pandas as pd"
   ]
  },
  {
   "cell_type": "code",
   "execution_count": 3,
   "metadata": {
    "collapsed": true
   },
   "outputs": [],
   "source": [
    "a = np.array([[1, 2, 3], [4, 5, 6], [7, 8, 9]])\n",
    "df = pd.DataFrame(a, columns=['A', 'B', 'C']"
   ]
  },
  {
   "cell_type": "code",
   "execution_count": 6,
   "metadata": {},
   "outputs": [
    {
     "data": {
      "text/plain": [
       "8.0"
      ]
     },
     "execution_count": 6,
     "metadata": {},
     "output_type": "execute_result"
    }
   ],
   "source": [
    "a[a.sum(axis=1).argmax()].mean()"
   ]
  },
  {
   "cell_type": "code",
   "execution_count": 5,
   "metadata": {},
   "outputs": [
    {
     "name": "stdout",
     "output_type": "stream",
     "text": [
      "   A  B  C\n",
      "0  1  2  3\n",
      "1  4  5  6\n",
      "2  7  8  9\n",
      "     A    B    C\n",
      "0  NaN  NaN  NaN\n",
      "1  1.0  2.0  3.0\n",
      "2  4.0  5.0  6.0\n"
     ]
    }
   ],
   "source": [
    "# Shift function\n",
    "print(df)\n",
    "print(df.shift(1))"
   ]
  },
  {
   "cell_type": "code",
   "execution_count": 13,
   "metadata": {},
   "outputs": [
    {
     "name": "stdout",
     "output_type": "stream",
     "text": [
      "          A         B         C\n",
      "0 -1.224745 -1.224745 -1.224745\n",
      "1  0.000000  0.000000  0.000000\n",
      "2  1.224745  1.224745  1.224745\n"
     ]
    }
   ],
   "source": [
    "# Standardize\n",
    "df_std = (df - df.mean()) / df.std(ddof=0)\n",
    "print(df_std)"
   ]
  },
  {
   "cell_type": "code",
   "execution_count": 36,
   "metadata": {},
   "outputs": [
    {
     "data": {
      "text/plain": [
       "0     C\n",
       "1     C\n",
       "2     C\n",
       "3     C\n",
       "4     B\n",
       "5     B\n",
       "6     B\n",
       "7     B\n",
       "8     B\n",
       "9     A\n",
       "10    A\n",
       "11    A\n",
       "12    A\n",
       "13    C\n",
       "14    C\n",
       "15    B\n",
       "16    B\n",
       "17    B\n",
       "dtype: category\n",
       "Categories (3, object): [C < B < A]"
      ]
     },
     "execution_count": 36,
     "metadata": {},
     "output_type": "execute_result"
    }
   ],
   "source": [
    "# Qcut\n",
    "pd.qcut(pd.Series([1,1,2,3,4,5,6,7,8,9,99,9,9,2,2,4,6,7]), [0.0, 0.3, 0.8, 1.0], labels=[\"C\",\"B\",\"A\"])"
   ]
  },
  {
   "cell_type": "code",
   "execution_count": 32,
   "metadata": {},
   "outputs": [
    {
     "name": "stdout",
     "output_type": "stream",
     "text": [
      "0    0\n",
      "1    1\n",
      "2    2\n",
      "dtype: int64\n",
      "    0   1\n",
      "0  10  10\n",
      "1  20  20\n",
      "2  30  30\n",
      "3  40  40\n",
      "    0   1   2\n",
      "0  10  11 NaN\n",
      "1  20  21 NaN\n",
      "2  30  31 NaN\n",
      "3  40  41 NaN\n"
     ]
    }
   ],
   "source": [
    "s = pd.Series([0,1,2])\n",
    "df = pd.DataFrame({\n",
    "    0: [10,20,30,40],\n",
    "    1: [10,20,30,40] \n",
    "})\n",
    "print(s)\n",
    "print(df)\n",
    "print(df + s)"
   ]
  },
  {
   "cell_type": "code",
   "execution_count": null,
   "metadata": {
    "collapsed": true
   },
   "outputs": [],
   "source": []
  }
 ],
 "metadata": {
  "kernelspec": {
   "display_name": "Python 3",
   "language": "python",
   "name": "python3"
  },
  "language_info": {
   "codemirror_mode": {
    "name": "ipython",
    "version": 3
   },
   "file_extension": ".py",
   "mimetype": "text/x-python",
   "name": "python",
   "nbconvert_exporter": "python",
   "pygments_lexer": "ipython3",
   "version": "3.6.1"
  }
 },
 "nbformat": 4,
 "nbformat_minor": 2
}
