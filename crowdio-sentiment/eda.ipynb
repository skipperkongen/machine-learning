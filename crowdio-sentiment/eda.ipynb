{
 "cells": [
  {
   "cell_type": "code",
   "execution_count": 1,
   "metadata": {
    "collapsed": true
   },
   "outputs": [],
   "source": [
    "\"\"\"\n",
    "In this notebook I will look at the chat data:\n",
    "- Count distinct websites, agents, chats per agent\n",
    "- Compute mean rating per website\n",
    "- Compute mean rating per agent\n",
    "- Analyze languages used in chats\n",
    "\"\"\"\n",
    "import pandas as pd"
   ]
  },
  {
   "cell_type": "code",
   "execution_count": 2,
   "metadata": {},
   "outputs": [
    {
     "data": {
      "text/html": [
       "<div>\n",
       "<table border=\"1\" class=\"dataframe\">\n",
       "  <thead>\n",
       "    <tr style=\"text-align: right;\">\n",
       "      <th></th>\n",
       "      <th>sessionId</th>\n",
       "      <th>website</th>\n",
       "      <th>entryPage</th>\n",
       "      <th>exitPage</th>\n",
       "      <th>agentName</th>\n",
       "      <th>agentAlias</th>\n",
       "      <th>datetime</th>\n",
       "      <th>duration</th>\n",
       "      <th>messagesCount</th>\n",
       "      <th>agentRating</th>\n",
       "      <th>companyRating</th>\n",
       "      <th>clientRating</th>\n",
       "      <th>transcript</th>\n",
       "      <th>lead</th>\n",
       "    </tr>\n",
       "  </thead>\n",
       "  <tbody>\n",
       "    <tr>\n",
       "      <th>0</th>\n",
       "      <td>1495632441291</td>\n",
       "      <td>www.crowdio.com</td>\n",
       "      <td>https://crowdio.com/agent_faq/</td>\n",
       "      <td>https://crowdio.com/agent_faq/</td>\n",
       "      <td>Nikolaj Nielsen</td>\n",
       "      <td>Nikolaj</td>\n",
       "      <td>24-05-2017 13:27:21</td>\n",
       "      <td>00:02:14</td>\n",
       "      <td>6</td>\n",
       "      <td>NaN</td>\n",
       "      <td>NaN</td>\n",
       "      <td>NaN</td>\n",
       "      <td>CSR: Welcome to Crowdio. How can we help?\\nVis...</td>\n",
       "      <td>NaN</td>\n",
       "    </tr>\n",
       "    <tr>\n",
       "      <th>1</th>\n",
       "      <td>1495631904893</td>\n",
       "      <td>www.SimplyGo.dk</td>\n",
       "      <td>https://simplygo.dk/hyundai-leasing?gclid=CM3x...</td>\n",
       "      <td>https://simplygo.dk/fordele-ved-simplygo-leasing</td>\n",
       "      <td>Martin Nydahl</td>\n",
       "      <td>Martin</td>\n",
       "      <td>24-05-2017 13:18:24</td>\n",
       "      <td>00:02:45</td>\n",
       "      <td>8</td>\n",
       "      <td>NaN</td>\n",
       "      <td>NaN</td>\n",
       "      <td>NaN</td>\n",
       "      <td>CSR: Velkommen til. Har du sp&amp;oslash;rgsm&amp;arin...</td>\n",
       "      <td>NaN</td>\n",
       "    </tr>\n",
       "    <tr>\n",
       "      <th>2</th>\n",
       "      <td>1495631613207</td>\n",
       "      <td>www.SimplyGo.dk</td>\n",
       "      <td>https://simplygo.dk/</td>\n",
       "      <td>https://simplygo.dk/</td>\n",
       "      <td>Martin Nydahl</td>\n",
       "      <td>Martin</td>\n",
       "      <td>24-05-2017 13:13:33</td>\n",
       "      <td>00:01:43</td>\n",
       "      <td>7</td>\n",
       "      <td>NaN</td>\n",
       "      <td>NaN</td>\n",
       "      <td>NaN</td>\n",
       "      <td>CSR: Velkommen til. Har du sp&amp;oslash;rgsm&amp;arin...</td>\n",
       "      <td>NaN</td>\n",
       "    </tr>\n",
       "    <tr>\n",
       "      <th>3</th>\n",
       "      <td>1495631289125</td>\n",
       "      <td>www.mycruise.dk</td>\n",
       "      <td>http://www.mycruise.dk/skibe-og-rederier/costa...</td>\n",
       "      <td>http://www.mycruise.dk/alt-om-krydstogt/pak-di...</td>\n",
       "      <td>Kasper Knudsen</td>\n",
       "      <td>Kasper</td>\n",
       "      <td>24-05-2017 13:08:09</td>\n",
       "      <td>00:10:09</td>\n",
       "      <td>4</td>\n",
       "      <td>NaN</td>\n",
       "      <td>NaN</td>\n",
       "      <td>NaN</td>\n",
       "      <td>CSR: Hej, sig endelig til, hvis du har sp&amp;osla...</td>\n",
       "      <td>NaN</td>\n",
       "    </tr>\n",
       "    <tr>\n",
       "      <th>4</th>\n",
       "      <td>1495630780502</td>\n",
       "      <td>www.essentialfoods.se</td>\n",
       "      <td>https://www.essentialfoods.se/</td>\n",
       "      <td>https://www.essentialfoods.se/contacts</td>\n",
       "      <td>Kasper Knudsen</td>\n",
       "      <td>Kasper</td>\n",
       "      <td>24-05-2017 12:59:40</td>\n",
       "      <td>00:03:21</td>\n",
       "      <td>10</td>\n",
       "      <td>4.0</td>\n",
       "      <td>4.0</td>\n",
       "      <td>NaN</td>\n",
       "      <td>CSR: Funderar du p&amp;aring; att byta till ESSENT...</td>\n",
       "      <td>NaN</td>\n",
       "    </tr>\n",
       "  </tbody>\n",
       "</table>\n",
       "</div>"
      ],
      "text/plain": [
       "       sessionId                website  \\\n",
       "0  1495632441291        www.crowdio.com   \n",
       "1  1495631904893        www.SimplyGo.dk   \n",
       "2  1495631613207        www.SimplyGo.dk   \n",
       "3  1495631289125        www.mycruise.dk   \n",
       "4  1495630780502  www.essentialfoods.se   \n",
       "\n",
       "                                           entryPage  \\\n",
       "0                     https://crowdio.com/agent_faq/   \n",
       "1  https://simplygo.dk/hyundai-leasing?gclid=CM3x...   \n",
       "2                               https://simplygo.dk/   \n",
       "3  http://www.mycruise.dk/skibe-og-rederier/costa...   \n",
       "4                     https://www.essentialfoods.se/   \n",
       "\n",
       "                                            exitPage        agentName  \\\n",
       "0                     https://crowdio.com/agent_faq/  Nikolaj Nielsen   \n",
       "1   https://simplygo.dk/fordele-ved-simplygo-leasing    Martin Nydahl   \n",
       "2                               https://simplygo.dk/    Martin Nydahl   \n",
       "3  http://www.mycruise.dk/alt-om-krydstogt/pak-di...   Kasper Knudsen   \n",
       "4             https://www.essentialfoods.se/contacts   Kasper Knudsen   \n",
       "\n",
       "  agentAlias             datetime  duration  messagesCount  agentRating  \\\n",
       "0    Nikolaj  24-05-2017 13:27:21  00:02:14              6          NaN   \n",
       "1     Martin  24-05-2017 13:18:24  00:02:45              8          NaN   \n",
       "2     Martin  24-05-2017 13:13:33  00:01:43              7          NaN   \n",
       "3     Kasper  24-05-2017 13:08:09  00:10:09              4          NaN   \n",
       "4     Kasper  24-05-2017 12:59:40  00:03:21             10          4.0   \n",
       "\n",
       "   companyRating clientRating  \\\n",
       "0            NaN          NaN   \n",
       "1            NaN          NaN   \n",
       "2            NaN          NaN   \n",
       "3            NaN          NaN   \n",
       "4            4.0          NaN   \n",
       "\n",
       "                                          transcript lead  \n",
       "0  CSR: Welcome to Crowdio. How can we help?\\nVis...  NaN  \n",
       "1  CSR: Velkommen til. Har du sp&oslash;rgsm&arin...  NaN  \n",
       "2  CSR: Velkommen til. Har du sp&oslash;rgsm&arin...  NaN  \n",
       "3  CSR: Hej, sig endelig til, hvis du har sp&osla...  NaN  \n",
       "4  CSR: Funderar du p&aring; att byta till ESSENT...  NaN  "
      ]
     },
     "execution_count": 2,
     "metadata": {},
     "output_type": "execute_result"
    }
   ],
   "source": [
    "\"\"\"\n",
    "Load data\n",
    "\"\"\"\n",
    "df = pd.read_csv('data/1495632785372-chats-export.csv')\n",
    "df.head()"
   ]
  },
  {
   "cell_type": "code",
   "execution_count": 3,
   "metadata": {},
   "outputs": [
    {
     "name": "stdout",
     "output_type": "stream",
     "text": [
      "Row count: 7541\n",
      "Percentage of rows with company rating: 0.267868982894\n",
      "Percentage of rows with client rating: 0.00782389603501\n",
      "Distinct websites: 83\n",
      "Distinct agents: 106\n",
      "\n",
      "(Chats handled per agent top 10)\n",
      "agentName\n",
      "Martin Nydahl         1681\n",
      "Asim Malik            1230\n",
      "Ole  Boye Pedersen     569\n",
      "Kasper Knudsen         446\n",
      "Ulrik Seidelin         407\n",
      "Jens F                 383\n",
      "Peter                  322\n",
      "Enver Arabaci          317\n",
      "Frederik Lund          279\n",
      "CY Khoo                269\n",
      "dtype: int64\n"
     ]
    }
   ],
   "source": [
    "# Counting stuff\n",
    "print('Row count:', len(df))\n",
    "print('Percentage of rows with company rating:', df.companyRating.notnull().sum() / len(df))\n",
    "print('Percentage of rows with client rating:', df.clientRating.notnull().sum() / len(df))\n",
    "print('Distinct websites:', len(df.website.unique()))\n",
    "print('Distinct agents:', len(df.agentName.unique()))\n",
    "print()\n",
    "print('(Chats handled per agent top 10)')\n",
    "print(df.groupby('agentName').size().sort_values(ascending=False).head(10))\n"
   ]
  },
  {
   "cell_type": "code",
   "execution_count": 4,
   "metadata": {},
   "outputs": [
    {
     "data": {
      "text/plain": [
       "[['CSR: Welcome to Crowdio. How can we help?',\n",
       "  'Visitor: just checking this out',\n",
       "  'CSR: Hi, just got your message...',\n",
       "  'CSR: You are welcome :)',\n",
       "  'CSR: Let me know if you have any questions :)',\n",
       "  ''],\n",
       " ['CSR: Velkommen til. Har du sp&oslash;rgsm&aring;l, s&aring; kan du chatte med os her.',\n",
       "  'Visitor: Får i flere i30 på lager igen?',\n",
       "  'CSR: Hej, har lige fået din besked...',\n",
       "  'CSR: God eftermiddag',\n",
       "  'CSR: Det har jeg ikke info på desværre - men har du tilmeldt dig vores nyhedsbrev? så får du altid nyhed omkring tilføjelser og opdateringer af vores sortiment som en af de første :)',\n",
       "  'Visitor: Tak',\n",
       "  'CSR: Det var så lidt :) hav en rigtig god dag',\n",
       "  ''],\n",
       " ['CSR: Velkommen til. Har du sp&oslash;rgsm&aring;l, s&aring; kan du chatte med os her.',\n",
       "  'Visitor: Har I nogen cabriolet-biler ledige?',\n",
       "  'CSR: Hej, har lige fået din besked...',\n",
       "  'CSR: God eftermiddag',\n",
       "  'CSR: Vi har altid kun de biler som vises på hjemmesiden - du kan se udvalget ved at trykke på en af de tre røde knapper: Lille, Mellem eller Stor. Vi skifter dog løbende vores sortiment ud :)',\n",
       "  'Visitor: ok. tak. ',\n",
       "  '']]"
      ]
     },
     "execution_count": 4,
     "metadata": {},
     "output_type": "execute_result"
    }
   ],
   "source": [
    "\"\"\"\n",
    "See a few transcripts\n",
    "\"\"\"\n",
    "transcripts = [t.split('\\n') for t in df.transcript]\n",
    "transcripts[0:3]"
   ]
  },
  {
   "cell_type": "code",
   "execution_count": 32,
   "metadata": {},
   "outputs": [
    {
     "name": "stdout",
     "output_type": "stream",
     "text": [
      "631\n",
      "1389\n",
      "45\n",
      "14\n"
     ]
    }
   ],
   "source": [
    "\"\"\"\n",
    "positive/negative reviews\n",
    "\"\"\"\n",
    "print(len(df[df.companyRating <= 3]))\n",
    "print(len(df[df.companyRating > 3]))\n",
    "print(len(df[df.clientRating == 'Good']))\n",
    "print(len(df[df.clientRating == 'Bad']))"
   ]
  },
  {
   "cell_type": "code",
   "execution_count": 33,
   "metadata": {},
   "outputs": [
    {
     "data": {
      "text/plain": [
       "<matplotlib.axes._subplots.AxesSubplot at 0x1184d3588>"
      ]
     },
     "execution_count": 33,
     "metadata": {},
     "output_type": "execute_result"
    },
    {
     "data": {
      "image/png": "[encoded data removed]",
      "text/plain": [
       "<matplotlib.figure.Figure at 0x118af4c50>"
      ]
     },
     "metadata": {},
     "output_type": "display_data"
    }
   ],
   "source": [
    "\"\"\"\n",
    "Distribution of companyRating\n",
    "- http://seaborn.pydata.org/tutorial/distributions.html\n",
    "\"\"\"\n",
    "%matplotlib inline\n",
    "import seaborn as sns\n",
    "import matplotlib.pyplot as plt\n",
    "sns.set(color_codes=True)\n",
    "x = df.companyRating.dropna()\n",
    "sns.distplot(x)"
   ]
  },
  {
   "cell_type": "code",
   "execution_count": 36,
   "metadata": {},
   "outputs": [
    {
     "data": {
      "text/plain": [
       "<matplotlib.axes._subplots.AxesSubplot at 0x118ec8048>"
      ]
     },
     "execution_count": 36,
     "metadata": {},
     "output_type": "execute_result"
    },
    {
     "data": {
      "image/png": "[encoded data removed]",
      "text/plain": [
       "<matplotlib.figure.Figure at 0x118da9e10>"
      ]
     },
     "metadata": {},
     "output_type": "display_data"
    }
   ],
   "source": [
    "df.count().plot(kind='bar')"
   ]
  },
  {
   "cell_type": "code",
   "execution_count": null,
   "metadata": {
    "collapsed": true
   },
   "outputs": [],
   "source": []
  }
 ],
 "metadata": {
  "kernelspec": {
   "display_name": "Python 3",
   "language": "python",
   "name": "python3"
  },
  "language_info": {
   "codemirror_mode": {
    "name": "ipython",
    "version": 3
   },
   "file_extension": ".py",
   "mimetype": "text/x-python",
   "name": "python",
   "nbconvert_exporter": "python",
   "pygments_lexer": "ipython3",
   "version": "3.6.1"
  }
 },
 "nbformat": 4,
 "nbformat_minor": 2
}
